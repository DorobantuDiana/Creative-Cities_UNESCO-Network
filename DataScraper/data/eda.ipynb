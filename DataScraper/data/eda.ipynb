{
 "cells": [
  {
   "cell_type": "code",
   "execution_count": 1,
   "metadata": {},
   "outputs": [],
   "source": [
    "import pandas as pd"
   ]
  },
  {
   "cell_type": "code",
   "execution_count": 2,
   "metadata": {},
   "outputs": [
    {
     "data": {
      "text/html": [
       "<div>\n",
       "<style scoped>\n",
       "    .dataframe tbody tr th:only-of-type {\n",
       "        vertical-align: middle;\n",
       "    }\n",
       "\n",
       "    .dataframe tbody tr th {\n",
       "        vertical-align: top;\n",
       "    }\n",
       "\n",
       "    .dataframe thead th {\n",
       "        text-align: right;\n",
       "    }\n",
       "</style>\n",
       "<table border=\"1\" class=\"dataframe\">\n",
       "  <thead>\n",
       "    <tr style=\"text-align: right;\">\n",
       "      <th></th>\n",
       "      <th>City Name</th>\n",
       "      <th>Category</th>\n",
       "      <th>Description</th>\n",
       "      <th>Link</th>\n",
       "    </tr>\n",
       "  </thead>\n",
       "  <tbody>\n",
       "    <tr>\n",
       "      <th>0</th>\n",
       "      <td>Ashgabat</td>\n",
       "      <td>Design</td>\n",
       "      <td>About the Creative City:Situated in a pictures...</td>\n",
       "      <td>https://www.unesco.org/en/creative-cities/ashg...</td>\n",
       "    </tr>\n",
       "    <tr>\n",
       "      <th>1</th>\n",
       "      <td>Gangneung</td>\n",
       "      <td>Gastronomy</td>\n",
       "      <td>About the Creative City: The city of Gangneung...</td>\n",
       "      <td>https://www.unesco.org/en/creative-cities/gang...</td>\n",
       "    </tr>\n",
       "    <tr>\n",
       "      <th>2</th>\n",
       "      <td>Casablanca</td>\n",
       "      <td>Media Arts</td>\n",
       "      <td>About the Creative City:Casablanca is a major ...</td>\n",
       "      <td>https://www.unesco.org/en/creative-cities/casa...</td>\n",
       "    </tr>\n",
       "    <tr>\n",
       "      <th>3</th>\n",
       "      <td>Valencia</td>\n",
       "      <td>Design</td>\n",
       "      <td>About the Creative City: Valencia emphasizes t...</td>\n",
       "      <td>https://www.unesco.org/en/creative-cities/vale...</td>\n",
       "    </tr>\n",
       "    <tr>\n",
       "      <th>4</th>\n",
       "      <td>Veliky Novgorod</td>\n",
       "      <td>Music</td>\n",
       "      <td>About the Creative City: Veliky Novgorod Creat...</td>\n",
       "      <td>https://www.unesco.org/en/creative-cities/veli...</td>\n",
       "    </tr>\n",
       "  </tbody>\n",
       "</table>\n",
       "</div>"
      ],
      "text/plain": [
       "         City Name    Category  \\\n",
       "0         Ashgabat      Design   \n",
       "1        Gangneung  Gastronomy   \n",
       "2       Casablanca  Media Arts   \n",
       "3         Valencia      Design   \n",
       "4  Veliky Novgorod       Music   \n",
       "\n",
       "                                         Description  \\\n",
       "0  About the Creative City:Situated in a pictures...   \n",
       "1  About the Creative City: The city of Gangneung...   \n",
       "2  About the Creative City:Casablanca is a major ...   \n",
       "3  About the Creative City: Valencia emphasizes t...   \n",
       "4  About the Creative City: Veliky Novgorod Creat...   \n",
       "\n",
       "                                                Link  \n",
       "0  https://www.unesco.org/en/creative-cities/ashg...  \n",
       "1  https://www.unesco.org/en/creative-cities/gang...  \n",
       "2  https://www.unesco.org/en/creative-cities/casa...  \n",
       "3  https://www.unesco.org/en/creative-cities/vale...  \n",
       "4  https://www.unesco.org/en/creative-cities/veli...  "
      ]
     },
     "execution_count": 2,
     "metadata": {},
     "output_type": "execute_result"
    }
   ],
   "source": [
    "df = pd.read_csv('./data.csv')\n",
    "df.head()"
   ]
  },
  {
   "cell_type": "code",
   "execution_count": 3,
   "metadata": {},
   "outputs": [
    {
     "data": {
      "text/plain": [
       "['About the Creative City:Situated in a picturesque valley at the foothills of Kopetdag, the Creative City of Ashgabat is the meeting point of two ancient civilizations, Anau and Nisa. Its unique location has profoundly influenced the city’s design, offering a harmonious blend of modern technologies and architectural traditions. Ashgabat is a city centred around design and is renowned for its innovative projects in the field of design, where both the public and private sectors, as well as professional designers, play an active role. Today, the design industry in Ashgabat encompasses approximately 190 enterprises, employing over 8,000 skilled individuals.\\xa0In 2022, Ashgabat showcased its commitment to urban design by hosting the Ashgabat Design Forum and the “Design Without Borders” exhibition, gathering leading local, national, and international designers. Additionally, since 2017 the “Master-follower” project implemented by the Academy of Arts, has strengthened ties between graduates and students by hosting various competitions where design combines traditional and contemporary trends. This project forms a creative union of professionals and young, aspiring designers, as well as connecting the municipality with the community through the field of design.\\xa0\\xa0Added Value:\\xa0As a Creative City of Design, Ashgabat\\xa0is dedicated:To provide training opportunities for aspiring designers, opening up new job prospects in the field of design;\\xa0To foster creative projects and programmes aimed at enhancing the social well-being of marginalized groups;To strengthen interaction and collaboration with other creative fields covered by the Network, promoting the exchange of ideas and practices; andTo promote regional and international collaboration in the development and implementation of creative projects, recognizing design as an important element of sustainable urban development.',\n",
       " \"About the Creative City:\\xa0The city of Gangneung is developing an inclusive and creative culinary culture by safeguarding traditional local cuisine and keeping it up to date. The city is home to more than 7,500 establishments linked to the gastronomy sector. Gangneung is encouraging the development of a culture of excellence in gastronomy through a variety of events and competitions aimed at nurturing a creative melting pot of local culinary talent. Examples include the Gangneung Food Festival and the Food Talk Show.Combining tradition and innovation, Gangneung is promoting a mixed approach to gastronomy, by actively supporting young entrepreneurs who are initiating a fresh interpretation to traditional recipes and flavours by using modern ingredients and methods. Gangneung's gastronomic activities culminate in the Gangneung National Food Competition, where local chefs showcase the full extent of their culinary talent and creativity.This twofold focus on innovation and respect for local tradition is embodied in the city's efforts to support both the traditional tea sector and the newly established coffee sector. Other major events and institutions include tea ceremonies, the Gangneung Coffee Association (including 850 companies), the Coffee Festival Advisory Committee (representing coffee museums, coffee shops and university research) and the Gangneung Coffee Forum.\\xa0The Creative City sees its gastronomy as a driving force to strengthen social cohesion at the local level, supporting, for example, a number of migrant inclusion programmes organized around meals and their preparation.\\xa0Added value:As a Creative City of Gastronomy, Gangneung is dedicated to:\\xa0Promoting sustainable urban development through the creative and cultural industries, in particular by breathing new life into traditional local gastronomy and supporting sustainable agriculture and short food supply chains;\\xa0Developing and reviving culinary tourism programmes in cooperation with other Creative Cities;\\xa0Encouraging synergies between the various creative fields, locally and among the Network; andEnsuring that the Sustainable Development Goals (SDGs) are applied.\",\n",
       " \"About the Creative City:Casablanca is a major centre for media arts and the cultural and creative industries in general, attracting 65% of the country's companies in this sector. The Festival International d'Art Vidéo (FIAV), one of the oldest in the country, has four Arttech incubators, which foster meetings and exchanges between various representatives of the sector and support a dozen schools and training centres dedicated to media arts. Casablanca thus offers an ideal setting for the development of digital creativity.\\xa0Casablanca is also encouraging the development of the local video games industry, paving the way for a dynamic ecosystem of companies and events. This is evidenced by the Maghreb Game Conference 2016, Africa Gaming Fest 2018, Global Game Jam and Gaming Awards 2021 competition, which brought together thousands of enthusiasts and industry professionals.\\xa0The Creative City also supports the use of media arts in other sectors, notably in the preservation and transmission of local heritage and in the development of Casablanca's Grand Museum. This will include a virtual wing, designed by representatives of the local digital industry, featuring elements of Morocco's and other partner African countries’ heritage.\\xa0Added value:As a Creative City of Media Arts, Casablanca is dedicated to:\\xa0Harnessing media arts to raise awareness of the key issues shaping citizen-led development of sustainable cities;\\xa0Continuing with and developing international cultural cooperation, particularly in the media arts sector; andSupporting citizen-led cultural initiatives with a view to strengthening social cohesion and the sense of community.\",\n",
       " 'About the Creative City:\\xa0Valencia emphasizes the essential role of design in articulating new processes of co-creation, social interaction, participation, and governance for more efficient, resilient, cooperative, attractive, and sustainable cities. The city has historical links to design, dating back to the 15th century with the first printing press and a flourishing silk industry. Valencia’s commitment to design education is evident, with a strong design legacy and a vibrant cultural and creative sector. The city is recognized as a prominent hub in the global design landscape, fostering connections with leading design centres worldwide.In the 1980s, the avant-garde design group La Nave revolutionized the perception of design, and innovative design-oriented policies laid the foundation for Valencia’s designation as the World Design Capital in 2002. Today, Valencia is the only city in the country with a Local Design Council, demonstrating its dedication to the field.Valencia’s main outcomes for its designation include the integration of design into policy-making processes, the strengthening of the design ecosystem, exploration of the impact of design education on urban dynamics, and active participation in UNESCO Creative Cities networks to leverage expertise and experiences.\\xa0\\xa0Added Value:\\xa0As a Creative City of Design,\\xa0Valencia is dedicated:\\xa0To establish vibrant centres of creativity and innovation to foster an environment conductive to generating new ideas and innovative approaches;To launch a hub for international cooperation, particularly in the context of Mediterranean design, recognising the influence of design on sociability, well-being, for fostering social interaction and tolerance; and\\xa0To produce an action plan focusing on design education and training, with the aim of leveraging design as a powerful tool across various domains.',\n",
       " 'About the Creative City:\\xa0Veliky Novgorod Creative City has made significant contributions to the development of its local\\xa0music culture over the years. This city’s cultural heritage echoes from the past, when ancient Novgorod was known for its epics and performances. This city is also the birthplace of the country’s traditional bell ringing, which eventually became a significant part of its music in the 18th and 19th centuries and was\\xa0also essential in the development of Znamenny singing, a type of polyphonic liturgical singing that is now popular throughout the country and around the world.\\xa0Veliky Novgorod is home to a number of cultural institutions, including music halls, theatres, educational organizations, and museums, and the city’s cultural sector employs over 2,000 people. Additionally, numerous professional ensembles represent musical art: the City Bass Band, the Chamber Orchestra, and the Orchestra of Russian Folk Instruments of the Novgorod Regional Philharmonic Society. This Creative City also recognizes the importance of youth participation in sustainable urban development and has incorporated music into a number of educational programmes\\xa0throughout the city.Veliky Novgorod has previously hosted a variety\\xa0of music-related events. For example, the annual International Festival of Musical Antiquities, which combines ethnomusicology and with musical performances,\\xa0the Dialogue Culture and Arts Centre, a summer school for young aspiring musicians to develop and showcase their skills, and the Open Arts International Education Festival, which focused on areas such as vocals, choreography, visual arts, theatre, and instrumental performance. Many annual festivals\\xa0are also held in the city centre.\\xa0Added Value:\\xa0As a Creative City of Music,\\xa0Veliky Novgorod is dedicated:\\xa0To increase attraction of cultural events through international collaboration and recognition;To encourage youth interaction through partnerships with other Creative Cities;\\xa0To enhance the cultural potential of the urban community by exchanging best practices with other Creative Cities;To expand the cultural offerings for residence, to increase the number of music forums, and to ensure the growth of creative activity; andTo increase tourism and boost the creative economy.']"
      ]
     },
     "execution_count": 3,
     "metadata": {},
     "output_type": "execute_result"
    }
   ],
   "source": [
    "docs = df['Description'].tolist()\n",
    "docs[0:5]"
   ]
  },
  {
   "cell_type": "code",
   "execution_count": 4,
   "metadata": {},
   "outputs": [
    {
     "ename": "ImportError",
     "evalue": "dlopen(/opt/anaconda3/lib/python3.11/site-packages/hdbscan/_hdbscan_linkage.cpython-311-darwin.so, 0x0002): tried: '/opt/anaconda3/lib/python3.11/site-packages/hdbscan/_hdbscan_linkage.cpython-311-darwin.so' (mach-o file, but is an incompatible architecture (have 'x86_64', need 'arm64')), '/System/Volumes/Preboot/Cryptexes/OS/opt/anaconda3/lib/python3.11/site-packages/hdbscan/_hdbscan_linkage.cpython-311-darwin.so' (no such file), '/opt/anaconda3/lib/python3.11/site-packages/hdbscan/_hdbscan_linkage.cpython-311-darwin.so' (mach-o file, but is an incompatible architecture (have 'x86_64', need 'arm64'))",
     "output_type": "error",
     "traceback": [
      "\u001b[0;31m---------------------------------------------------------------------------\u001b[0m",
      "\u001b[0;31mImportError\u001b[0m                               Traceback (most recent call last)",
      "Cell \u001b[0;32mIn[4], line 1\u001b[0m\n\u001b[0;32m----> 1\u001b[0m \u001b[38;5;28;01mfrom\u001b[39;00m \u001b[38;5;21;01mtop2vec\u001b[39;00m \u001b[38;5;28;01mimport\u001b[39;00m Top2Vec\n",
      "File \u001b[0;32m/opt/anaconda3/lib/python3.11/site-packages/top2vec/__init__.py:1\u001b[0m\n\u001b[0;32m----> 1\u001b[0m \u001b[38;5;28;01mfrom\u001b[39;00m \u001b[38;5;21;01mtop2vec\u001b[39;00m\u001b[38;5;21;01m.\u001b[39;00m\u001b[38;5;21;01mTop2Vec\u001b[39;00m \u001b[38;5;28;01mimport\u001b[39;00m Top2Vec\n\u001b[1;32m      3\u001b[0m __version__ \u001b[38;5;241m=\u001b[39m \u001b[38;5;124m'\u001b[39m\u001b[38;5;124m1.0.34\u001b[39m\u001b[38;5;124m'\u001b[39m\n",
      "File \u001b[0;32m/opt/anaconda3/lib/python3.11/site-packages/top2vec/Top2Vec.py:12\u001b[0m\n\u001b[1;32m     10\u001b[0m \u001b[38;5;28;01mfrom\u001b[39;00m \u001b[38;5;21;01mgensim\u001b[39;00m\u001b[38;5;21;01m.\u001b[39;00m\u001b[38;5;21;01mmodels\u001b[39;00m\u001b[38;5;21;01m.\u001b[39;00m\u001b[38;5;21;01mphrases\u001b[39;00m \u001b[38;5;28;01mimport\u001b[39;00m Phrases\n\u001b[1;32m     11\u001b[0m \u001b[38;5;28;01mimport\u001b[39;00m \u001b[38;5;21;01mumap\u001b[39;00m\n\u001b[0;32m---> 12\u001b[0m \u001b[38;5;28;01mimport\u001b[39;00m \u001b[38;5;21;01mhdbscan\u001b[39;00m\n\u001b[1;32m     13\u001b[0m \u001b[38;5;28;01mfrom\u001b[39;00m \u001b[38;5;21;01mwordcloud\u001b[39;00m \u001b[38;5;28;01mimport\u001b[39;00m WordCloud\n\u001b[1;32m     14\u001b[0m \u001b[38;5;28;01mimport\u001b[39;00m \u001b[38;5;21;01mmatplotlib\u001b[39;00m\u001b[38;5;21;01m.\u001b[39;00m\u001b[38;5;21;01mpyplot\u001b[39;00m \u001b[38;5;28;01mas\u001b[39;00m \u001b[38;5;21;01mplt\u001b[39;00m\n",
      "File \u001b[0;32m/opt/anaconda3/lib/python3.11/site-packages/hdbscan/__init__.py:1\u001b[0m\n\u001b[0;32m----> 1\u001b[0m \u001b[38;5;28;01mfrom\u001b[39;00m \u001b[38;5;21;01m.\u001b[39;00m\u001b[38;5;21;01mhdbscan_\u001b[39;00m \u001b[38;5;28;01mimport\u001b[39;00m HDBSCAN, hdbscan\n\u001b[1;32m      2\u001b[0m \u001b[38;5;28;01mfrom\u001b[39;00m \u001b[38;5;21;01m.\u001b[39;00m\u001b[38;5;21;01mrobust_single_linkage_\u001b[39;00m \u001b[38;5;28;01mimport\u001b[39;00m RobustSingleLinkage, robust_single_linkage\n\u001b[1;32m      3\u001b[0m \u001b[38;5;28;01mfrom\u001b[39;00m \u001b[38;5;21;01m.\u001b[39;00m\u001b[38;5;21;01mvalidity\u001b[39;00m \u001b[38;5;28;01mimport\u001b[39;00m validity_index\n",
      "File \u001b[0;32m/opt/anaconda3/lib/python3.11/site-packages/hdbscan/hdbscan_.py:20\u001b[0m\n\u001b[1;32m     16\u001b[0m \u001b[38;5;28;01mfrom\u001b[39;00m \u001b[38;5;21;01mjoblib\u001b[39;00m\u001b[38;5;21;01m.\u001b[39;00m\u001b[38;5;21;01mparallel\u001b[39;00m \u001b[38;5;28;01mimport\u001b[39;00m cpu_count\n\u001b[1;32m     18\u001b[0m \u001b[38;5;28;01mfrom\u001b[39;00m \u001b[38;5;21;01mscipy\u001b[39;00m\u001b[38;5;21;01m.\u001b[39;00m\u001b[38;5;21;01msparse\u001b[39;00m \u001b[38;5;28;01mimport\u001b[39;00m csgraph\n\u001b[0;32m---> 20\u001b[0m \u001b[38;5;28;01mfrom\u001b[39;00m \u001b[38;5;21;01m.\u001b[39;00m\u001b[38;5;21;01m_hdbscan_linkage\u001b[39;00m \u001b[38;5;28;01mimport\u001b[39;00m (\n\u001b[1;32m     21\u001b[0m     single_linkage,\n\u001b[1;32m     22\u001b[0m     mst_linkage_core,\n\u001b[1;32m     23\u001b[0m     mst_linkage_core_vector,\n\u001b[1;32m     24\u001b[0m     label,\n\u001b[1;32m     25\u001b[0m )\n\u001b[1;32m     26\u001b[0m \u001b[38;5;28;01mfrom\u001b[39;00m \u001b[38;5;21;01m.\u001b[39;00m\u001b[38;5;21;01m_hdbscan_tree\u001b[39;00m \u001b[38;5;28;01mimport\u001b[39;00m (\n\u001b[1;32m     27\u001b[0m     condense_tree,\n\u001b[1;32m     28\u001b[0m     compute_stability,\n\u001b[1;32m     29\u001b[0m     get_clusters,\n\u001b[1;32m     30\u001b[0m     outlier_scores,\n\u001b[1;32m     31\u001b[0m )\n\u001b[1;32m     32\u001b[0m \u001b[38;5;28;01mfrom\u001b[39;00m \u001b[38;5;21;01m.\u001b[39;00m\u001b[38;5;21;01m_hdbscan_reachability\u001b[39;00m \u001b[38;5;28;01mimport\u001b[39;00m mutual_reachability, sparse_mutual_reachability\n",
      "\u001b[0;31mImportError\u001b[0m: dlopen(/opt/anaconda3/lib/python3.11/site-packages/hdbscan/_hdbscan_linkage.cpython-311-darwin.so, 0x0002): tried: '/opt/anaconda3/lib/python3.11/site-packages/hdbscan/_hdbscan_linkage.cpython-311-darwin.so' (mach-o file, but is an incompatible architecture (have 'x86_64', need 'arm64')), '/System/Volumes/Preboot/Cryptexes/OS/opt/anaconda3/lib/python3.11/site-packages/hdbscan/_hdbscan_linkage.cpython-311-darwin.so' (no such file), '/opt/anaconda3/lib/python3.11/site-packages/hdbscan/_hdbscan_linkage.cpython-311-darwin.so' (mach-o file, but is an incompatible architecture (have 'x86_64', need 'arm64'))"
     ]
    }
   ],
   "source": [
    "from top2vec import Top2Vec"
   ]
  },
  {
   "cell_type": "code",
   "execution_count": null,
   "metadata": {},
   "outputs": [],
   "source": []
  }
 ],
 "metadata": {
  "kernelspec": {
   "display_name": "Python 3 (ipykernel)",
   "language": "python",
   "name": "python3"
  },
  "language_info": {
   "codemirror_mode": {
    "name": "ipython",
    "version": 3
   },
   "file_extension": ".py",
   "mimetype": "text/x-python",
   "name": "python",
   "nbconvert_exporter": "python",
   "pygments_lexer": "ipython3",
   "version": "3.11.8"
  }
 },
 "nbformat": 4,
 "nbformat_minor": 4
}
