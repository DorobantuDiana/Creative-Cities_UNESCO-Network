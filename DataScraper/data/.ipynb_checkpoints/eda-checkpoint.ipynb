{
 "cells": [
  {
   "cell_type": "code",
   "execution_count": 1,
   "metadata": {},
   "outputs": [],
   "source": [
    "import pandas as pd"
   ]
  },
  {
   "cell_type": "code",
   "execution_count": 2,
   "metadata": {},
   "outputs": [
    {
     "data": {
      "text/html": [
       "<div>\n",
       "<style scoped>\n",
       "    .dataframe tbody tr th:only-of-type {\n",
       "        vertical-align: middle;\n",
       "    }\n",
       "\n",
       "    .dataframe tbody tr th {\n",
       "        vertical-align: top;\n",
       "    }\n",
       "\n",
       "    .dataframe thead th {\n",
       "        text-align: right;\n",
       "    }\n",
       "</style>\n",
       "<table border=\"1\" class=\"dataframe\">\n",
       "  <thead>\n",
       "    <tr style=\"text-align: right;\">\n",
       "      <th></th>\n",
       "      <th>City Name</th>\n",
       "      <th>Category</th>\n",
       "      <th>Description</th>\n",
       "      <th>Link</th>\n",
       "    </tr>\n",
       "  </thead>\n",
       "  <tbody>\n",
       "    <tr>\n",
       "      <th>0</th>\n",
       "      <td>Ashgabat</td>\n",
       "      <td>Design</td>\n",
       "      <td>About the Creative City:Situated in a pictures...</td>\n",
       "      <td>https://www.unesco.org/en/creative-cities/ashg...</td>\n",
       "    </tr>\n",
       "    <tr>\n",
       "      <th>1</th>\n",
       "      <td>Gangneung</td>\n",
       "      <td>Gastronomy</td>\n",
       "      <td>About the Creative City: The city of Gangneung...</td>\n",
       "      <td>https://www.unesco.org/en/creative-cities/gang...</td>\n",
       "    </tr>\n",
       "    <tr>\n",
       "      <th>2</th>\n",
       "      <td>Casablanca</td>\n",
       "      <td>Media Arts</td>\n",
       "      <td>About the Creative City:Casablanca is a major ...</td>\n",
       "      <td>https://www.unesco.org/en/creative-cities/casa...</td>\n",
       "    </tr>\n",
       "    <tr>\n",
       "      <th>3</th>\n",
       "      <td>Valencia</td>\n",
       "      <td>Design</td>\n",
       "      <td>About the Creative City: Valencia emphasizes t...</td>\n",
       "      <td>https://www.unesco.org/en/creative-cities/vale...</td>\n",
       "    </tr>\n",
       "    <tr>\n",
       "      <th>4</th>\n",
       "      <td>Veliky Novgorod</td>\n",
       "      <td>Music</td>\n",
       "      <td>About the Creative City: Veliky Novgorod Creat...</td>\n",
       "      <td>https://www.unesco.org/en/creative-cities/veli...</td>\n",
       "    </tr>\n",
       "  </tbody>\n",
       "</table>\n",
       "</div>"
      ],
      "text/plain": [
       "         City Name    Category  \\\n",
       "0         Ashgabat      Design   \n",
       "1        Gangneung  Gastronomy   \n",
       "2       Casablanca  Media Arts   \n",
       "3         Valencia      Design   \n",
       "4  Veliky Novgorod       Music   \n",
       "\n",
       "                                         Description  \\\n",
       "0  About the Creative City:Situated in a pictures...   \n",
       "1  About the Creative City: The city of Gangneung...   \n",
       "2  About the Creative City:Casablanca is a major ...   \n",
       "3  About the Creative City: Valencia emphasizes t...   \n",
       "4  About the Creative City: Veliky Novgorod Creat...   \n",
       "\n",
       "                                                Link  \n",
       "0  https://www.unesco.org/en/creative-cities/ashg...  \n",
       "1  https://www.unesco.org/en/creative-cities/gang...  \n",
       "2  https://www.unesco.org/en/creative-cities/casa...  \n",
       "3  https://www.unesco.org/en/creative-cities/vale...  \n",
       "4  https://www.unesco.org/en/creative-cities/veli...  "
      ]
     },
     "execution_count": 2,
     "metadata": {},
     "output_type": "execute_result"
    }
   ],
   "source": [
    "df = pd.read_csv('./data.csv')\n",
    "df.head()"
   ]
  },
  {
   "cell_type": "code",
   "execution_count": null,
   "metadata": {},
   "outputs": [],
   "source": []
  }
 ],
 "metadata": {
  "kernelspec": {
   "display_name": "Python 3",
   "language": "python",
   "name": "python3"
  },
  "language_info": {
   "codemirror_mode": {
    "name": "ipython",
    "version": 3
   },
   "file_extension": ".py",
   "mimetype": "text/x-python",
   "name": "python",
   "nbconvert_exporter": "python",
   "pygments_lexer": "ipython3",
   "version": "3.12.0"
  }
 },
 "nbformat": 4,
 "nbformat_minor": 2
}
